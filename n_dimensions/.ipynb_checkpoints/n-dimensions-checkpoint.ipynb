{
 "cells": [
  {
   "cell_type": "markdown",
   "id": "758f5943",
   "metadata": {},
   "source": [
    "<img src=\"https://www.sturgischarterschool.com/wp-content/uploads/2019/06/sturgisheader_logo.png\" alt=\"sturgis\" width=\"250\" align=\"right\"/>\n",
    "\n",
    "## Computer Science 'N-Dimensional Space' \n",
    "### Sturgis Charter Public School \n"
   ]
  },
  {
   "cell_type": "markdown",
   "id": "e105fc5b",
   "metadata": {},
   "source": [
    "## Narrative\n",
    "\n",
    "#### What's a dimension? \n",
    "\n",
    "![plane](plane.png)\n",
    "\n",
    "Well the google definition is something like, \"a measurable extent of some kind, such as length, breadth, depth, or height.\"\n",
    "\n",
    "If you think about it, that means a dimension is basically something that we can measure. And when we talk about physical reality, it makes sense that we can only measure so many ways. But when it comes to data we know that we can measure things many more than three ways. \n",
    "\n",
    "Today let's start simple. Let's make a one dimensional object.\n",
    "...then a 2-dimensional object.\n",
    "...then a 3-dimensional object.\n",
    "...then an n-dimensional object. \n",
    "\n",
    "The tricky part is that eventually it's going to be impossible to view what we make. We'll worry about that later. "
   ]
  },
  {
   "cell_type": "code",
   "execution_count": 1,
   "id": "5f1c98e0",
   "metadata": {},
   "outputs": [
    {
     "name": "stdout",
     "output_type": "stream",
     "text": [
      "[0, 1, 0, 1, 27, 5, 0, 32]\n"
     ]
    }
   ],
   "source": [
    "# 1 dimensional array\n",
    "one = [0,1,0,1,27,5,0,32]\n",
    "print(one)"
   ]
  },
  {
   "cell_type": "code",
   "execution_count": null,
   "id": "089c0c71",
   "metadata": {},
   "outputs": [],
   "source": [
    "# 2 dimensional array\n",
    "# in order to this we simply need a dimension (a line) of one dimensional arrays. 1 + 1 = 2\n",
    "ones =\n",
    "two = "
   ]
  }
 ],
 "metadata": {
  "kernelspec": {
   "display_name": "Python 3 (ipykernel)",
   "language": "python",
   "name": "python3"
  },
  "language_info": {
   "codemirror_mode": {
    "name": "ipython",
    "version": 3
   },
   "file_extension": ".py",
   "mimetype": "text/x-python",
   "name": "python",
   "nbconvert_exporter": "python",
   "pygments_lexer": "ipython3",
   "version": "3.9.7"
  }
 },
 "nbformat": 4,
 "nbformat_minor": 5
}
